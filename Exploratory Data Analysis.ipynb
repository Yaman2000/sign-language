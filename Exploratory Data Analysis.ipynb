{
 "cells": [
  {
   "cell_type": "code",
   "execution_count": 2,
   "id": "e10cc9fa",
   "metadata": {},
   "outputs": [
    {
     "name": "stdout",
     "output_type": "stream",
     "text": [
      "Requirement already satisfied: pandas-datareader in c:\\users\\dell\\appdata\\local\\programs\\python\\python310\\lib\\site-packages (0.10.0)"
     ]
    },
    {
     "name": "stderr",
     "output_type": "stream",
     "text": [
      "WARNING: You are using pip version 22.0.4; however, version 22.1.2 is available.\n",
      "You should consider upgrading via the 'C:\\Users\\Dell\\AppData\\Local\\Programs\\Python\\Python310\\python.exe -m pip install --upgrade pip' command.\n"
     ]
    },
    {
     "name": "stdout",
     "output_type": "stream",
     "text": [
      "\n",
      "Requirement already satisfied: requests>=2.19.0 in c:\\users\\dell\\appdata\\local\\programs\\python\\python310\\lib\\site-packages (from pandas-datareader) (2.28.0)\n",
      "Requirement already satisfied: pandas>=0.23 in c:\\users\\dell\\appdata\\local\\programs\\python\\python310\\lib\\site-packages (from pandas-datareader) (1.4.3)\n",
      "Requirement already satisfied: lxml in c:\\users\\dell\\appdata\\local\\programs\\python\\python310\\lib\\site-packages (from pandas-datareader) (4.9.1)\n",
      "Requirement already satisfied: numpy>=1.21.0 in c:\\users\\dell\\appdata\\local\\programs\\python\\python310\\lib\\site-packages (from pandas>=0.23->pandas-datareader) (1.23.0)\n",
      "Requirement already satisfied: python-dateutil>=2.8.1 in c:\\users\\dell\\appdata\\local\\programs\\python\\python310\\lib\\site-packages (from pandas>=0.23->pandas-datareader) (2.8.2)\n",
      "Requirement already satisfied: pytz>=2020.1 in c:\\users\\dell\\appdata\\local\\programs\\python\\python310\\lib\\site-packages (from pandas>=0.23->pandas-datareader) (2022.1)\n",
      "Requirement already satisfied: urllib3<1.27,>=1.21.1 in c:\\users\\dell\\appdata\\local\\programs\\python\\python310\\lib\\site-packages (from requests>=2.19.0->pandas-datareader) (1.26.9)\n",
      "Requirement already satisfied: idna<4,>=2.5 in c:\\users\\dell\\appdata\\local\\programs\\python\\python310\\lib\\site-packages (from requests>=2.19.0->pandas-datareader) (3.3)\n",
      "Requirement already satisfied: charset-normalizer~=2.0.0 in c:\\users\\dell\\appdata\\local\\programs\\python\\python310\\lib\\site-packages (from requests>=2.19.0->pandas-datareader) (2.0.12)\n",
      "Requirement already satisfied: certifi>=2017.4.17 in c:\\users\\dell\\appdata\\local\\programs\\python\\python310\\lib\\site-packages (from requests>=2.19.0->pandas-datareader) (2022.6.15)\n",
      "Requirement already satisfied: six>=1.5 in c:\\users\\dell\\appdata\\local\\programs\\python\\python310\\lib\\site-packages (from python-dateutil>=2.8.1->pandas>=0.23->pandas-datareader) (1.16.0)\n"
     ]
    }
   ],
   "source": [
    "#install panda data reader\n",
    "!pip install pandas-datareader"
   ]
  },
  {
   "cell_type": "code",
   "execution_count": 3,
   "id": "02b1304f",
   "metadata": {},
   "outputs": [],
   "source": [
    "import pandas_datareader as pdr #we read dataset \n",
    "import pandas as pd\n",
    "from datetime import datetime"
   ]
  },
  {
   "cell_type": "code",
   "execution_count": 4,
   "id": "e719d3cb",
   "metadata": {},
   "outputs": [],
   "source": [
    "df_tesla = pdr.get_data_yahoo('TSLA')"
   ]
  },
  {
   "cell_type": "code",
   "execution_count": 5,
   "id": "bb20a54b",
   "metadata": {},
   "outputs": [
    {
     "data": {
      "text/plain": [
       "pandas.core.frame.DataFrame"
      ]
     },
     "execution_count": 5,
     "metadata": {},
     "output_type": "execute_result"
    }
   ],
   "source": [
    "type(df_tesla)"
   ]
  },
  {
   "cell_type": "code",
   "execution_count": 6,
   "id": "fc30b9c5",
   "metadata": {},
   "outputs": [
    {
     "data": {
      "text/html": [
       "<div>\n",
       "<style scoped>\n",
       "    .dataframe tbody tr th:only-of-type {\n",
       "        vertical-align: middle;\n",
       "    }\n",
       "\n",
       "    .dataframe tbody tr th {\n",
       "        vertical-align: top;\n",
       "    }\n",
       "\n",
       "    .dataframe thead th {\n",
       "        text-align: right;\n",
       "    }\n",
       "</style>\n",
       "<table border=\"1\" class=\"dataframe\">\n",
       "  <thead>\n",
       "    <tr style=\"text-align: right;\">\n",
       "      <th></th>\n",
       "      <th>High</th>\n",
       "      <th>Low</th>\n",
       "      <th>Open</th>\n",
       "      <th>Close</th>\n",
       "      <th>Volume</th>\n",
       "      <th>Adj Close</th>\n",
       "    </tr>\n",
       "    <tr>\n",
       "      <th>Date</th>\n",
       "      <th></th>\n",
       "      <th></th>\n",
       "      <th></th>\n",
       "      <th></th>\n",
       "      <th></th>\n",
       "      <th></th>\n",
       "    </tr>\n",
       "  </thead>\n",
       "  <tbody>\n",
       "    <tr>\n",
       "      <th>2022-07-11</th>\n",
       "      <td>759.190002</td>\n",
       "      <td>700.880005</td>\n",
       "      <td>756.309998</td>\n",
       "      <td>703.030029</td>\n",
       "      <td>33080400.0</td>\n",
       "      <td>703.030029</td>\n",
       "    </tr>\n",
       "    <tr>\n",
       "      <th>2022-07-12</th>\n",
       "      <td>719.320007</td>\n",
       "      <td>685.109985</td>\n",
       "      <td>710.539978</td>\n",
       "      <td>699.210022</td>\n",
       "      <td>29310300.0</td>\n",
       "      <td>699.210022</td>\n",
       "    </tr>\n",
       "    <tr>\n",
       "      <th>2022-07-13</th>\n",
       "      <td>726.179993</td>\n",
       "      <td>675.099976</td>\n",
       "      <td>676.500000</td>\n",
       "      <td>711.119995</td>\n",
       "      <td>32651500.0</td>\n",
       "      <td>711.119995</td>\n",
       "    </tr>\n",
       "    <tr>\n",
       "      <th>2022-07-14</th>\n",
       "      <td>715.960022</td>\n",
       "      <td>688.000000</td>\n",
       "      <td>704.690002</td>\n",
       "      <td>714.940002</td>\n",
       "      <td>26185800.0</td>\n",
       "      <td>714.940002</td>\n",
       "    </tr>\n",
       "    <tr>\n",
       "      <th>2022-07-15</th>\n",
       "      <td>730.869995</td>\n",
       "      <td>710.669983</td>\n",
       "      <td>720.000000</td>\n",
       "      <td>720.200012</td>\n",
       "      <td>23165500.0</td>\n",
       "      <td>720.200012</td>\n",
       "    </tr>\n",
       "  </tbody>\n",
       "</table>\n",
       "</div>"
      ],
      "text/plain": [
       "                  High         Low        Open       Close      Volume  \\\n",
       "Date                                                                     \n",
       "2022-07-11  759.190002  700.880005  756.309998  703.030029  33080400.0   \n",
       "2022-07-12  719.320007  685.109985  710.539978  699.210022  29310300.0   \n",
       "2022-07-13  726.179993  675.099976  676.500000  711.119995  32651500.0   \n",
       "2022-07-14  715.960022  688.000000  704.690002  714.940002  26185800.0   \n",
       "2022-07-15  730.869995  710.669983  720.000000  720.200012  23165500.0   \n",
       "\n",
       "             Adj Close  \n",
       "Date                    \n",
       "2022-07-11  703.030029  \n",
       "2022-07-12  699.210022  \n",
       "2022-07-13  711.119995  \n",
       "2022-07-14  714.940002  \n",
       "2022-07-15  720.200012  "
      ]
     },
     "execution_count": 6,
     "metadata": {},
     "output_type": "execute_result"
    }
   ],
   "source": [
    "df_tesla.tail()"
   ]
  },
  {
   "cell_type": "code",
   "execution_count": 7,
   "id": "b3503755",
   "metadata": {},
   "outputs": [
    {
     "data": {
      "text/plain": [
       "<AxesSubplot:xlabel='Date'>"
      ]
     },
     "execution_count": 7,
     "metadata": {},
     "output_type": "execute_result"
    },
    {
     "data": {
      "image/png": "[encoded data removed]",
      "text/plain": [
       "<Figure size 432x288 with 1 Axes>"
      ]
     },
     "metadata": {
      "needs_background": "light"
     },
     "output_type": "display_data"
    }
   ],
   "source": [
    "df_tesla.plot()"
   ]
  },
  {
   "cell_type": "code",
   "execution_count": 8,
   "id": "f167ea8d",
   "metadata": {},
   "outputs": [
    {
     "data": {
      "text/plain": [
       "<AxesSubplot:xlabel='Date'>"
      ]
     },
     "execution_count": 8,
     "metadata": {},
     "output_type": "execute_result"
    },
    {
     "data": {
      "image/png": "[encoded data removed]",
      "text/plain": [
       "<Figure size 864x288 with 1 Axes>"
      ]
     },
     "metadata": {
      "needs_background": "light"
     },
     "output_type": "display_data"
    }
   ],
   "source": [
    "df_tesla['High'].plot(figsize=(12,4))"
   ]
  },
  {
   "cell_type": "code",
   "execution_count": 9,
   "id": "3893ced0",
   "metadata": {},
   "outputs": [
    {
     "data": {
      "text/plain": [
       "<AxesSubplot:xlabel='Date'>"
      ]
     },
     "execution_count": 9,
     "metadata": {},
     "output_type": "execute_result"
    },
    {
     "data": {
      "image/png": "[encoded data removed]",
      "text/plain": [
       "<Figure size 864x288 with 1 Axes>"
      ]
     },
     "metadata": {
      "needs_background": "light"
     },
     "output_type": "display_data"
    }
   ],
   "source": [
    "df_tesla['High'].plot(xlim=['2020-01-01', '2021-09-01'], figsize=(12,4))"
   ]
  },
  {
   "cell_type": "code",
   "execution_count": 10,
   "id": "c9d64a8b",
   "metadata": {},
   "outputs": [
    {
     "data": {
      "text/plain": [
       "DatetimeIndex(['2017-07-17', '2017-07-18', '2017-07-19', '2017-07-20',\n",
       "               '2017-07-21', '2017-07-24', '2017-07-25', '2017-07-26',\n",
       "               '2017-07-27', '2017-07-28',\n",
       "               ...\n",
       "               '2022-07-01', '2022-07-05', '2022-07-06', '2022-07-07',\n",
       "               '2022-07-08', '2022-07-11', '2022-07-12', '2022-07-13',\n",
       "               '2022-07-14', '2022-07-15'],\n",
       "              dtype='datetime64[ns]', name='Date', length=1259, freq=None)"
      ]
     },
     "execution_count": 10,
     "metadata": {},
     "output_type": "execute_result"
    }
   ],
   "source": [
    "#to retrive dates\n",
    "df_tesla.index"
   ]
  },
  {
   "cell_type": "code",
   "execution_count": 11,
   "id": "836424e9",
   "metadata": {},
   "outputs": [
    {
     "data": {
      "text/html": [
       "<div>\n",
       "<style scoped>\n",
       "    .dataframe tbody tr th:only-of-type {\n",
       "        vertical-align: middle;\n",
       "    }\n",
       "\n",
       "    .dataframe tbody tr th {\n",
       "        vertical-align: top;\n",
       "    }\n",
       "\n",
       "    .dataframe thead th {\n",
       "        text-align: right;\n",
       "    }\n",
       "</style>\n",
       "<table border=\"1\" class=\"dataframe\">\n",
       "  <thead>\n",
       "    <tr style=\"text-align: right;\">\n",
       "      <th></th>\n",
       "      <th>High</th>\n",
       "      <th>Low</th>\n",
       "      <th>Open</th>\n",
       "      <th>Close</th>\n",
       "      <th>Volume</th>\n",
       "      <th>Adj Close</th>\n",
       "    </tr>\n",
       "    <tr>\n",
       "      <th>Date</th>\n",
       "      <th></th>\n",
       "      <th></th>\n",
       "      <th></th>\n",
       "      <th></th>\n",
       "      <th></th>\n",
       "      <th></th>\n",
       "    </tr>\n",
       "  </thead>\n",
       "  <tbody>\n",
       "    <tr>\n",
       "      <th>2017-07-17</th>\n",
       "      <td>65.419998</td>\n",
       "      <td>62.689999</td>\n",
       "      <td>65.108002</td>\n",
       "      <td>63.914001</td>\n",
       "      <td>49384500.0</td>\n",
       "      <td>63.914001</td>\n",
       "    </tr>\n",
       "    <tr>\n",
       "      <th>2017-07-18</th>\n",
       "      <td>65.825996</td>\n",
       "      <td>63.132000</td>\n",
       "      <td>63.500000</td>\n",
       "      <td>65.648003</td>\n",
       "      <td>31868500.0</td>\n",
       "      <td>65.648003</td>\n",
       "    </tr>\n",
       "    <tr>\n",
       "      <th>2017-07-19</th>\n",
       "      <td>66.330002</td>\n",
       "      <td>64.643997</td>\n",
       "      <td>65.646004</td>\n",
       "      <td>65.052002</td>\n",
       "      <td>31785000.0</td>\n",
       "      <td>65.052002</td>\n",
       "    </tr>\n",
       "    <tr>\n",
       "      <th>2017-07-20</th>\n",
       "      <td>66.043999</td>\n",
       "      <td>64.839996</td>\n",
       "      <td>65.379997</td>\n",
       "      <td>65.984001</td>\n",
       "      <td>25831000.0</td>\n",
       "      <td>65.984001</td>\n",
       "    </tr>\n",
       "    <tr>\n",
       "      <th>2017-07-21</th>\n",
       "      <td>66.251999</td>\n",
       "      <td>65.160004</td>\n",
       "      <td>65.891998</td>\n",
       "      <td>65.680000</td>\n",
       "      <td>24508000.0</td>\n",
       "      <td>65.680000</td>\n",
       "    </tr>\n",
       "  </tbody>\n",
       "</table>\n",
       "</div>"
      ],
      "text/plain": [
       "                 High        Low       Open      Close      Volume  Adj Close\n",
       "Date                                                                         \n",
       "2017-07-17  65.419998  62.689999  65.108002  63.914001  49384500.0  63.914001\n",
       "2017-07-18  65.825996  63.132000  63.500000  65.648003  31868500.0  65.648003\n",
       "2017-07-19  66.330002  64.643997  65.646004  65.052002  31785000.0  65.052002\n",
       "2017-07-20  66.043999  64.839996  65.379997  65.984001  25831000.0  65.984001\n",
       "2017-07-21  66.251999  65.160004  65.891998  65.680000  24508000.0  65.680000"
      ]
     },
     "execution_count": 11,
     "metadata": {},
     "output_type": "execute_result"
    }
   ],
   "source": [
    "df_tesla.head()"
   ]
  },
  {
   "cell_type": "code",
   "execution_count": 12,
   "id": "dba18196",
   "metadata": {},
   "outputs": [],
   "source": [
    "index = df_tesla.loc['2020-01-01' : '2021-09-01'].index\n",
    "share_open = df_tesla.loc['2020-01-01' : '2021-09-01']['Open'] #which column"
   ]
  },
  {
   "cell_type": "code",
   "execution_count": 13,
   "id": "fd7d2bc5",
   "metadata": {},
   "outputs": [
    {
     "data": {
      "text/plain": [
       "Date\n",
       "2020-01-02     84.900002\n",
       "2020-01-03     88.099998\n",
       "2020-01-06     88.094002\n",
       "2020-01-07     92.279999\n",
       "2020-01-08     94.739998\n",
       "                 ...    \n",
       "2021-08-26    708.309998\n",
       "2021-08-27    705.000000\n",
       "2021-08-30    714.719971\n",
       "2021-08-31    733.000000\n",
       "2021-09-01    734.080017\n",
       "Name: Open, Length: 421, dtype: float64"
      ]
     },
     "execution_count": 13,
     "metadata": {},
     "output_type": "execute_result"
    }
   ],
   "source": [
    "share_open #date w.r.t to specific dataset"
   ]
  },
  {
   "cell_type": "code",
   "execution_count": 14,
   "id": "8f7693e9",
   "metadata": {},
   "outputs": [
    {
     "data": {
      "text/plain": [
       "DatetimeIndex(['2020-01-02', '2020-01-03', '2020-01-06', '2020-01-07',\n",
       "               '2020-01-08', '2020-01-09', '2020-01-10', '2020-01-13',\n",
       "               '2020-01-14', '2020-01-15',\n",
       "               ...\n",
       "               '2021-08-19', '2021-08-20', '2021-08-23', '2021-08-24',\n",
       "               '2021-08-25', '2021-08-26', '2021-08-27', '2021-08-30',\n",
       "               '2021-08-31', '2021-09-01'],\n",
       "              dtype='datetime64[ns]', name='Date', length=421, freq=None)"
      ]
     },
     "execution_count": 14,
     "metadata": {},
     "output_type": "execute_result"
    }
   ],
   "source": [
    "index"
   ]
  },
  {
   "cell_type": "code",
   "execution_count": 15,
   "id": "4b4a90dd",
   "metadata": {},
   "outputs": [],
   "source": [
    "import matplotlib.pyplot as plt\n",
    "%matplotlib inline"
   ]
  },
  {
   "cell_type": "code",
   "execution_count": 16,
   "id": "c01b9de1",
   "metadata": {},
   "outputs": [
    {
     "data": {
      "text/plain": [
       "[<matplotlib.lines.Line2D at 0x2747f4e7100>]"
      ]
     },
     "execution_count": 16,
     "metadata": {},
     "output_type": "execute_result"
    },
    {
     "data": {
      "image/png": "[encoded data removed]",
      "text/plain": [
       "<Figure size 432x288 with 1 Axes>"
      ]
     },
     "metadata": {
      "needs_background": "light"
     },
     "output_type": "display_data"
    }
   ],
   "source": [
    "figure, axis=plt.subplots()\n",
    "\n",
    "axis.plot(index, share_open)"
   ]
  },
  {
   "cell_type": "code",
   "execution_count": 17,
   "id": "7221aba2",
   "metadata": {},
   "outputs": [
    {
     "data": {
      "text/plain": [
       "[<matplotlib.lines.Line2D at 0x2747f450100>]"
      ]
     },
     "execution_count": 17,
     "metadata": {},
     "output_type": "execute_result"
    },
    {
     "data": {
      "image/png": "[encoded data removed]",
      "text/plain": [
       "<Figure size 432x288 with 1 Axes>"
      ]
     },
     "metadata": {
      "needs_background": "light"
     },
     "output_type": "display_data"
    }
   ],
   "source": [
    "figure, axis=plt.subplots()\n",
    "plt.tight_layout()\n",
    "#Preventing overlapping\n",
    "figure.autofmt_xdate()\n",
    "axis.plot(index, share_open)"
   ]
  },
  {
   "cell_type": "code",
   "execution_count": 18,
   "id": "beab4893",
   "metadata": {},
   "outputs": [
    {
     "data": {
      "text/html": [
       "<div>\n",
       "<style scoped>\n",
       "    .dataframe tbody tr th:only-of-type {\n",
       "        vertical-align: middle;\n",
       "    }\n",
       "\n",
       "    .dataframe tbody tr th {\n",
       "        vertical-align: top;\n",
       "    }\n",
       "\n",
       "    .dataframe thead th {\n",
       "        text-align: right;\n",
       "    }\n",
       "</style>\n",
       "<table border=\"1\" class=\"dataframe\">\n",
       "  <thead>\n",
       "    <tr style=\"text-align: right;\">\n",
       "      <th></th>\n",
       "      <th>Date</th>\n",
       "      <th>High</th>\n",
       "      <th>Low</th>\n",
       "      <th>Open</th>\n",
       "      <th>Close</th>\n",
       "      <th>Volume</th>\n",
       "      <th>Adj Close</th>\n",
       "    </tr>\n",
       "  </thead>\n",
       "  <tbody>\n",
       "    <tr>\n",
       "      <th>0</th>\n",
       "      <td>2017-07-17</td>\n",
       "      <td>65.419998</td>\n",
       "      <td>62.689999</td>\n",
       "      <td>65.108002</td>\n",
       "      <td>63.914001</td>\n",
       "      <td>49384500.0</td>\n",
       "      <td>63.914001</td>\n",
       "    </tr>\n",
       "    <tr>\n",
       "      <th>1</th>\n",
       "      <td>2017-07-18</td>\n",
       "      <td>65.825996</td>\n",
       "      <td>63.132000</td>\n",
       "      <td>63.500000</td>\n",
       "      <td>65.648003</td>\n",
       "      <td>31868500.0</td>\n",
       "      <td>65.648003</td>\n",
       "    </tr>\n",
       "    <tr>\n",
       "      <th>2</th>\n",
       "      <td>2017-07-19</td>\n",
       "      <td>66.330002</td>\n",
       "      <td>64.643997</td>\n",
       "      <td>65.646004</td>\n",
       "      <td>65.052002</td>\n",
       "      <td>31785000.0</td>\n",
       "      <td>65.052002</td>\n",
       "    </tr>\n",
       "    <tr>\n",
       "      <th>3</th>\n",
       "      <td>2017-07-20</td>\n",
       "      <td>66.043999</td>\n",
       "      <td>64.839996</td>\n",
       "      <td>65.379997</td>\n",
       "      <td>65.984001</td>\n",
       "      <td>25831000.0</td>\n",
       "      <td>65.984001</td>\n",
       "    </tr>\n",
       "    <tr>\n",
       "      <th>4</th>\n",
       "      <td>2017-07-21</td>\n",
       "      <td>66.251999</td>\n",
       "      <td>65.160004</td>\n",
       "      <td>65.891998</td>\n",
       "      <td>65.680000</td>\n",
       "      <td>24508000.0</td>\n",
       "      <td>65.680000</td>\n",
       "    </tr>\n",
       "    <tr>\n",
       "      <th>...</th>\n",
       "      <td>...</td>\n",
       "      <td>...</td>\n",
       "      <td>...</td>\n",
       "      <td>...</td>\n",
       "      <td>...</td>\n",
       "      <td>...</td>\n",
       "      <td>...</td>\n",
       "    </tr>\n",
       "    <tr>\n",
       "      <th>1254</th>\n",
       "      <td>2022-07-11</td>\n",
       "      <td>759.190002</td>\n",
       "      <td>700.880005</td>\n",
       "      <td>756.309998</td>\n",
       "      <td>703.030029</td>\n",
       "      <td>33080400.0</td>\n",
       "      <td>703.030029</td>\n",
       "    </tr>\n",
       "    <tr>\n",
       "      <th>1255</th>\n",
       "      <td>2022-07-12</td>\n",
       "      <td>719.320007</td>\n",
       "      <td>685.109985</td>\n",
       "      <td>710.539978</td>\n",
       "      <td>699.210022</td>\n",
       "      <td>29310300.0</td>\n",
       "      <td>699.210022</td>\n",
       "    </tr>\n",
       "    <tr>\n",
       "      <th>1256</th>\n",
       "      <td>2022-07-13</td>\n",
       "      <td>726.179993</td>\n",
       "      <td>675.099976</td>\n",
       "      <td>676.500000</td>\n",
       "      <td>711.119995</td>\n",
       "      <td>32651500.0</td>\n",
       "      <td>711.119995</td>\n",
       "    </tr>\n",
       "    <tr>\n",
       "      <th>1257</th>\n",
       "      <td>2022-07-14</td>\n",
       "      <td>715.960022</td>\n",
       "      <td>688.000000</td>\n",
       "      <td>704.690002</td>\n",
       "      <td>714.940002</td>\n",
       "      <td>26185800.0</td>\n",
       "      <td>714.940002</td>\n",
       "    </tr>\n",
       "    <tr>\n",
       "      <th>1258</th>\n",
       "      <td>2022-07-15</td>\n",
       "      <td>730.869995</td>\n",
       "      <td>710.669983</td>\n",
       "      <td>720.000000</td>\n",
       "      <td>720.200012</td>\n",
       "      <td>23165500.0</td>\n",
       "      <td>720.200012</td>\n",
       "    </tr>\n",
       "  </tbody>\n",
       "</table>\n",
       "<p>1259 rows × 7 columns</p>\n",
       "</div>"
      ],
      "text/plain": [
       "           Date        High         Low        Open       Close      Volume  \\\n",
       "0    2017-07-17   65.419998   62.689999   65.108002   63.914001  49384500.0   \n",
       "1    2017-07-18   65.825996   63.132000   63.500000   65.648003  31868500.0   \n",
       "2    2017-07-19   66.330002   64.643997   65.646004   65.052002  31785000.0   \n",
       "3    2017-07-20   66.043999   64.839996   65.379997   65.984001  25831000.0   \n",
       "4    2017-07-21   66.251999   65.160004   65.891998   65.680000  24508000.0   \n",
       "...         ...         ...         ...         ...         ...         ...   \n",
       "1254 2022-07-11  759.190002  700.880005  756.309998  703.030029  33080400.0   \n",
       "1255 2022-07-12  719.320007  685.109985  710.539978  699.210022  29310300.0   \n",
       "1256 2022-07-13  726.179993  675.099976  676.500000  711.119995  32651500.0   \n",
       "1257 2022-07-14  715.960022  688.000000  704.690002  714.940002  26185800.0   \n",
       "1258 2022-07-15  730.869995  710.669983  720.000000  720.200012  23165500.0   \n",
       "\n",
       "       Adj Close  \n",
       "0      63.914001  \n",
       "1      65.648003  \n",
       "2      65.052002  \n",
       "3      65.984001  \n",
       "4      65.680000  \n",
       "...          ...  \n",
       "1254  703.030029  \n",
       "1255  699.210022  \n",
       "1256  711.119995  \n",
       "1257  714.940002  \n",
       "1258  720.200012  \n",
       "\n",
       "[1259 rows x 7 columns]"
      ]
     },
     "execution_count": 18,
     "metadata": {},
     "output_type": "execute_result"
    }
   ],
   "source": [
    "#datetime index\n",
    "df_tesla = df_tesla.reset_index()\n",
    "df_tesla"
   ]
  },
  {
   "cell_type": "code",
   "execution_count": 19,
   "id": "a4d8bab2",
   "metadata": {},
   "outputs": [
    {
     "name": "stdout",
     "output_type": "stream",
     "text": [
      "<class 'pandas.core.frame.DataFrame'>\n",
      "RangeIndex: 1259 entries, 0 to 1258\n",
      "Data columns (total 7 columns):\n",
      " #   Column     Non-Null Count  Dtype         \n",
      "---  ------     --------------  -----         \n",
      " 0   Date       1259 non-null   datetime64[ns]\n",
      " 1   High       1259 non-null   float64       \n",
      " 2   Low        1259 non-null   float64       \n",
      " 3   Open       1259 non-null   float64       \n",
      " 4   Close      1259 non-null   float64       \n",
      " 5   Volume     1259 non-null   float64       \n",
      " 6   Adj Close  1259 non-null   float64       \n",
      "dtypes: datetime64[ns](1), float64(6)\n",
      "memory usage: 69.0 KB\n"
     ]
    }
   ],
   "source": [
    "df_tesla.info()"
   ]
  },
  {
   "cell_type": "code",
   "execution_count": 20,
   "id": "51003302",
   "metadata": {},
   "outputs": [
    {
     "name": "stdout",
     "output_type": "stream",
     "text": [
      "<class 'pandas.core.frame.DataFrame'>\n",
      "RangeIndex: 1259 entries, 0 to 1258\n",
      "Data columns (total 7 columns):\n",
      " #   Column     Non-Null Count  Dtype         \n",
      "---  ------     --------------  -----         \n",
      " 0   Date       1259 non-null   datetime64[ns]\n",
      " 1   High       1259 non-null   float64       \n",
      " 2   Low        1259 non-null   float64       \n",
      " 3   Open       1259 non-null   float64       \n",
      " 4   Close      1259 non-null   float64       \n",
      " 5   Volume     1259 non-null   float64       \n",
      " 6   Adj Close  1259 non-null   float64       \n",
      "dtypes: datetime64[ns](1), float64(6)\n",
      "memory usage: 69.0 KB\n"
     ]
    }
   ],
   "source": [
    "#pd.to_datetime(df_tesla[\"Date\"])\n",
    "df_tesla.info()"
   ]
  },
  {
   "cell_type": "code",
   "execution_count": 21,
   "id": "040c1151",
   "metadata": {},
   "outputs": [
    {
     "data": {
      "text/html": [
       "<div>\n",
       "<style scoped>\n",
       "    .dataframe tbody tr th:only-of-type {\n",
       "        vertical-align: middle;\n",
       "    }\n",
       "\n",
       "    .dataframe tbody tr th {\n",
       "        vertical-align: top;\n",
       "    }\n",
       "\n",
       "    .dataframe thead th {\n",
       "        text-align: right;\n",
       "    }\n",
       "</style>\n",
       "<table border=\"1\" class=\"dataframe\">\n",
       "  <thead>\n",
       "    <tr style=\"text-align: right;\">\n",
       "      <th></th>\n",
       "      <th>Date</th>\n",
       "      <th>High</th>\n",
       "      <th>Low</th>\n",
       "      <th>Open</th>\n",
       "      <th>Close</th>\n",
       "      <th>Volume</th>\n",
       "      <th>Adj Close</th>\n",
       "    </tr>\n",
       "  </thead>\n",
       "  <tbody>\n",
       "    <tr>\n",
       "      <th>0</th>\n",
       "      <td>2017-07-17</td>\n",
       "      <td>65.419998</td>\n",
       "      <td>62.689999</td>\n",
       "      <td>65.108002</td>\n",
       "      <td>63.914001</td>\n",
       "      <td>49384500.0</td>\n",
       "      <td>63.914001</td>\n",
       "    </tr>\n",
       "    <tr>\n",
       "      <th>1</th>\n",
       "      <td>2017-07-18</td>\n",
       "      <td>65.825996</td>\n",
       "      <td>63.132000</td>\n",
       "      <td>63.500000</td>\n",
       "      <td>65.648003</td>\n",
       "      <td>31868500.0</td>\n",
       "      <td>65.648003</td>\n",
       "    </tr>\n",
       "    <tr>\n",
       "      <th>2</th>\n",
       "      <td>2017-07-19</td>\n",
       "      <td>66.330002</td>\n",
       "      <td>64.643997</td>\n",
       "      <td>65.646004</td>\n",
       "      <td>65.052002</td>\n",
       "      <td>31785000.0</td>\n",
       "      <td>65.052002</td>\n",
       "    </tr>\n",
       "    <tr>\n",
       "      <th>3</th>\n",
       "      <td>2017-07-20</td>\n",
       "      <td>66.043999</td>\n",
       "      <td>64.839996</td>\n",
       "      <td>65.379997</td>\n",
       "      <td>65.984001</td>\n",
       "      <td>25831000.0</td>\n",
       "      <td>65.984001</td>\n",
       "    </tr>\n",
       "    <tr>\n",
       "      <th>4</th>\n",
       "      <td>2017-07-21</td>\n",
       "      <td>66.251999</td>\n",
       "      <td>65.160004</td>\n",
       "      <td>65.891998</td>\n",
       "      <td>65.680000</td>\n",
       "      <td>24508000.0</td>\n",
       "      <td>65.680000</td>\n",
       "    </tr>\n",
       "    <tr>\n",
       "      <th>...</th>\n",
       "      <td>...</td>\n",
       "      <td>...</td>\n",
       "      <td>...</td>\n",
       "      <td>...</td>\n",
       "      <td>...</td>\n",
       "      <td>...</td>\n",
       "      <td>...</td>\n",
       "    </tr>\n",
       "    <tr>\n",
       "      <th>1254</th>\n",
       "      <td>2022-07-11</td>\n",
       "      <td>759.190002</td>\n",
       "      <td>700.880005</td>\n",
       "      <td>756.309998</td>\n",
       "      <td>703.030029</td>\n",
       "      <td>33080400.0</td>\n",
       "      <td>703.030029</td>\n",
       "    </tr>\n",
       "    <tr>\n",
       "      <th>1255</th>\n",
       "      <td>2022-07-12</td>\n",
       "      <td>719.320007</td>\n",
       "      <td>685.109985</td>\n",
       "      <td>710.539978</td>\n",
       "      <td>699.210022</td>\n",
       "      <td>29310300.0</td>\n",
       "      <td>699.210022</td>\n",
       "    </tr>\n",
       "    <tr>\n",
       "      <th>1256</th>\n",
       "      <td>2022-07-13</td>\n",
       "      <td>726.179993</td>\n",
       "      <td>675.099976</td>\n",
       "      <td>676.500000</td>\n",
       "      <td>711.119995</td>\n",
       "      <td>32651500.0</td>\n",
       "      <td>711.119995</td>\n",
       "    </tr>\n",
       "    <tr>\n",
       "      <th>1257</th>\n",
       "      <td>2022-07-14</td>\n",
       "      <td>715.960022</td>\n",
       "      <td>688.000000</td>\n",
       "      <td>704.690002</td>\n",
       "      <td>714.940002</td>\n",
       "      <td>26185800.0</td>\n",
       "      <td>714.940002</td>\n",
       "    </tr>\n",
       "    <tr>\n",
       "      <th>1258</th>\n",
       "      <td>2022-07-15</td>\n",
       "      <td>730.869995</td>\n",
       "      <td>710.669983</td>\n",
       "      <td>720.000000</td>\n",
       "      <td>720.200012</td>\n",
       "      <td>23165500.0</td>\n",
       "      <td>720.200012</td>\n",
       "    </tr>\n",
       "  </tbody>\n",
       "</table>\n",
       "<p>1259 rows × 7 columns</p>\n",
       "</div>"
      ],
      "text/plain": [
       "           Date        High         Low        Open       Close      Volume  \\\n",
       "0    2017-07-17   65.419998   62.689999   65.108002   63.914001  49384500.0   \n",
       "1    2017-07-18   65.825996   63.132000   63.500000   65.648003  31868500.0   \n",
       "2    2017-07-19   66.330002   64.643997   65.646004   65.052002  31785000.0   \n",
       "3    2017-07-20   66.043999   64.839996   65.379997   65.984001  25831000.0   \n",
       "4    2017-07-21   66.251999   65.160004   65.891998   65.680000  24508000.0   \n",
       "...         ...         ...         ...         ...         ...         ...   \n",
       "1254 2022-07-11  759.190002  700.880005  756.309998  703.030029  33080400.0   \n",
       "1255 2022-07-12  719.320007  685.109985  710.539978  699.210022  29310300.0   \n",
       "1256 2022-07-13  726.179993  675.099976  676.500000  711.119995  32651500.0   \n",
       "1257 2022-07-14  715.960022  688.000000  704.690002  714.940002  26185800.0   \n",
       "1258 2022-07-15  730.869995  710.669983  720.000000  720.200012  23165500.0   \n",
       "\n",
       "       Adj Close  \n",
       "0      63.914001  \n",
       "1      65.648003  \n",
       "2      65.052002  \n",
       "3      65.984001  \n",
       "4      65.680000  \n",
       "...          ...  \n",
       "1254  703.030029  \n",
       "1255  699.210022  \n",
       "1256  711.119995  \n",
       "1257  714.940002  \n",
       "1258  720.200012  \n",
       "\n",
       "[1259 rows x 7 columns]"
      ]
     },
     "execution_count": 21,
     "metadata": {},
     "output_type": "execute_result"
    }
   ],
   "source": [
    "df_tesla"
   ]
  },
  {
   "cell_type": "code",
   "execution_count": 22,
   "id": "0b627ed2",
   "metadata": {},
   "outputs": [],
   "source": [
    "df_tesla = df_tesla.set_index('Date', drop = True)\n"
   ]
  },
  {
   "cell_type": "code",
   "execution_count": 23,
   "id": "94c092a9",
   "metadata": {},
   "outputs": [
    {
     "data": {
      "text/html": [
       "<div>\n",
       "<style scoped>\n",
       "    .dataframe tbody tr th:only-of-type {\n",
       "        vertical-align: middle;\n",
       "    }\n",
       "\n",
       "    .dataframe tbody tr th {\n",
       "        vertical-align: top;\n",
       "    }\n",
       "\n",
       "    .dataframe thead th {\n",
       "        text-align: right;\n",
       "    }\n",
       "</style>\n",
       "<table border=\"1\" class=\"dataframe\">\n",
       "  <thead>\n",
       "    <tr style=\"text-align: right;\">\n",
       "      <th></th>\n",
       "      <th>High</th>\n",
       "      <th>Low</th>\n",
       "      <th>Open</th>\n",
       "      <th>Close</th>\n",
       "      <th>Volume</th>\n",
       "      <th>Adj Close</th>\n",
       "    </tr>\n",
       "    <tr>\n",
       "      <th>Date</th>\n",
       "      <th></th>\n",
       "      <th></th>\n",
       "      <th></th>\n",
       "      <th></th>\n",
       "      <th></th>\n",
       "      <th></th>\n",
       "    </tr>\n",
       "  </thead>\n",
       "  <tbody>\n",
       "    <tr>\n",
       "      <th>2017-07-17</th>\n",
       "      <td>65.419998</td>\n",
       "      <td>62.689999</td>\n",
       "      <td>65.108002</td>\n",
       "      <td>63.914001</td>\n",
       "      <td>49384500.0</td>\n",
       "      <td>63.914001</td>\n",
       "    </tr>\n",
       "    <tr>\n",
       "      <th>2017-07-18</th>\n",
       "      <td>65.825996</td>\n",
       "      <td>63.132000</td>\n",
       "      <td>63.500000</td>\n",
       "      <td>65.648003</td>\n",
       "      <td>31868500.0</td>\n",
       "      <td>65.648003</td>\n",
       "    </tr>\n",
       "    <tr>\n",
       "      <th>2017-07-19</th>\n",
       "      <td>66.330002</td>\n",
       "      <td>64.643997</td>\n",
       "      <td>65.646004</td>\n",
       "      <td>65.052002</td>\n",
       "      <td>31785000.0</td>\n",
       "      <td>65.052002</td>\n",
       "    </tr>\n",
       "    <tr>\n",
       "      <th>2017-07-20</th>\n",
       "      <td>66.043999</td>\n",
       "      <td>64.839996</td>\n",
       "      <td>65.379997</td>\n",
       "      <td>65.984001</td>\n",
       "      <td>25831000.0</td>\n",
       "      <td>65.984001</td>\n",
       "    </tr>\n",
       "    <tr>\n",
       "      <th>2017-07-21</th>\n",
       "      <td>66.251999</td>\n",
       "      <td>65.160004</td>\n",
       "      <td>65.891998</td>\n",
       "      <td>65.680000</td>\n",
       "      <td>24508000.0</td>\n",
       "      <td>65.680000</td>\n",
       "    </tr>\n",
       "    <tr>\n",
       "      <th>...</th>\n",
       "      <td>...</td>\n",
       "      <td>...</td>\n",
       "      <td>...</td>\n",
       "      <td>...</td>\n",
       "      <td>...</td>\n",
       "      <td>...</td>\n",
       "    </tr>\n",
       "    <tr>\n",
       "      <th>2022-07-11</th>\n",
       "      <td>759.190002</td>\n",
       "      <td>700.880005</td>\n",
       "      <td>756.309998</td>\n",
       "      <td>703.030029</td>\n",
       "      <td>33080400.0</td>\n",
       "      <td>703.030029</td>\n",
       "    </tr>\n",
       "    <tr>\n",
       "      <th>2022-07-12</th>\n",
       "      <td>719.320007</td>\n",
       "      <td>685.109985</td>\n",
       "      <td>710.539978</td>\n",
       "      <td>699.210022</td>\n",
       "      <td>29310300.0</td>\n",
       "      <td>699.210022</td>\n",
       "    </tr>\n",
       "    <tr>\n",
       "      <th>2022-07-13</th>\n",
       "      <td>726.179993</td>\n",
       "      <td>675.099976</td>\n",
       "      <td>676.500000</td>\n",
       "      <td>711.119995</td>\n",
       "      <td>32651500.0</td>\n",
       "      <td>711.119995</td>\n",
       "    </tr>\n",
       "    <tr>\n",
       "      <th>2022-07-14</th>\n",
       "      <td>715.960022</td>\n",
       "      <td>688.000000</td>\n",
       "      <td>704.690002</td>\n",
       "      <td>714.940002</td>\n",
       "      <td>26185800.0</td>\n",
       "      <td>714.940002</td>\n",
       "    </tr>\n",
       "    <tr>\n",
       "      <th>2022-07-15</th>\n",
       "      <td>730.869995</td>\n",
       "      <td>710.669983</td>\n",
       "      <td>720.000000</td>\n",
       "      <td>720.200012</td>\n",
       "      <td>23165500.0</td>\n",
       "      <td>720.200012</td>\n",
       "    </tr>\n",
       "  </tbody>\n",
       "</table>\n",
       "<p>1259 rows × 6 columns</p>\n",
       "</div>"
      ],
      "text/plain": [
       "                  High         Low        Open       Close      Volume  \\\n",
       "Date                                                                     \n",
       "2017-07-17   65.419998   62.689999   65.108002   63.914001  49384500.0   \n",
       "2017-07-18   65.825996   63.132000   63.500000   65.648003  31868500.0   \n",
       "2017-07-19   66.330002   64.643997   65.646004   65.052002  31785000.0   \n",
       "2017-07-20   66.043999   64.839996   65.379997   65.984001  25831000.0   \n",
       "2017-07-21   66.251999   65.160004   65.891998   65.680000  24508000.0   \n",
       "...                ...         ...         ...         ...         ...   \n",
       "2022-07-11  759.190002  700.880005  756.309998  703.030029  33080400.0   \n",
       "2022-07-12  719.320007  685.109985  710.539978  699.210022  29310300.0   \n",
       "2022-07-13  726.179993  675.099976  676.500000  711.119995  32651500.0   \n",
       "2022-07-14  715.960022  688.000000  704.690002  714.940002  26185800.0   \n",
       "2022-07-15  730.869995  710.669983  720.000000  720.200012  23165500.0   \n",
       "\n",
       "             Adj Close  \n",
       "Date                    \n",
       "2017-07-17   63.914001  \n",
       "2017-07-18   65.648003  \n",
       "2017-07-19   65.052002  \n",
       "2017-07-20   65.984001  \n",
       "2017-07-21   65.680000  \n",
       "...                ...  \n",
       "2022-07-11  703.030029  \n",
       "2022-07-12  699.210022  \n",
       "2022-07-13  711.119995  \n",
       "2022-07-14  714.940002  \n",
       "2022-07-15  720.200012  \n",
       "\n",
       "[1259 rows x 6 columns]"
      ]
     },
     "execution_count": 23,
     "metadata": {},
     "output_type": "execute_result"
    }
   ],
   "source": [
    "df_tesla"
   ]
  },
  {
   "cell_type": "code",
   "execution_count": 24,
   "id": "0230e1fa",
   "metadata": {},
   "outputs": [],
   "source": [
    "from datetime import datetime"
   ]
  },
  {
   "cell_type": "markdown",
   "id": "ae9dacda",
   "metadata": {},
   "source": [
    "datetime(2021, 11,21)"
   ]
  },
  {
   "cell_type": "code",
   "execution_count": 25,
   "id": "4f7f3bd0",
   "metadata": {},
   "outputs": [
    {
     "data": {
      "text/plain": [
       "datetime.datetime(2022, 7, 16, 0, 0)"
      ]
     },
     "execution_count": 25,
     "metadata": {},
     "output_type": "execute_result"
    }
   ],
   "source": [
    "datetime(2022, 7,16)"
   ]
  },
  {
   "cell_type": "code",
   "execution_count": 26,
   "id": "93bb06b1",
   "metadata": {},
   "outputs": [
    {
     "data": {
      "text/plain": [
       "datetime.datetime(2022, 7, 17, 17, 51, 56, 774609)"
      ]
     },
     "execution_count": 26,
     "metadata": {},
     "output_type": "execute_result"
    }
   ],
   "source": [
    "datetime.now()"
   ]
  },
  {
   "cell_type": "code",
   "execution_count": 27,
   "id": "241f5123",
   "metadata": {},
   "outputs": [],
   "source": [
    "date = datetime(2022, 7,16)"
   ]
  },
  {
   "cell_type": "code",
   "execution_count": 28,
   "id": "89f74c82",
   "metadata": {},
   "outputs": [
    {
     "data": {
      "text/plain": [
       "datetime.date(2022, 7, 16)"
      ]
     },
     "execution_count": 28,
     "metadata": {},
     "output_type": "execute_result"
    }
   ],
   "source": [
    "date.date()"
   ]
  },
  {
   "cell_type": "code",
   "execution_count": 29,
   "id": "f9a7fc73",
   "metadata": {},
   "outputs": [
    {
     "data": {
      "text/plain": [
       "5"
      ]
     },
     "execution_count": 29,
     "metadata": {},
     "output_type": "execute_result"
    }
   ],
   "source": [
    "date.weekday()"
   ]
  },
  {
   "cell_type": "code",
   "execution_count": 30,
   "id": "a2c533aa",
   "metadata": {},
   "outputs": [
    {
     "data": {
      "text/plain": [
       "2022"
      ]
     },
     "execution_count": 30,
     "metadata": {},
     "output_type": "execute_result"
    }
   ],
   "source": [
    "date.year"
   ]
  },
  {
   "cell_type": "code",
   "execution_count": 31,
   "id": "cb6bbb9b",
   "metadata": {},
   "outputs": [],
   "source": [
    "#Time Resambling"
   ]
  },
  {
   "cell_type": "code",
   "execution_count": 32,
   "id": "c1abbd97",
   "metadata": {},
   "outputs": [
    {
     "data": {
      "text/html": [
       "<div>\n",
       "<style scoped>\n",
       "    .dataframe tbody tr th:only-of-type {\n",
       "        vertical-align: middle;\n",
       "    }\n",
       "\n",
       "    .dataframe tbody tr th {\n",
       "        vertical-align: top;\n",
       "    }\n",
       "\n",
       "    .dataframe thead th {\n",
       "        text-align: right;\n",
       "    }\n",
       "</style>\n",
       "<table border=\"1\" class=\"dataframe\">\n",
       "  <thead>\n",
       "    <tr style=\"text-align: right;\">\n",
       "      <th></th>\n",
       "      <th>High</th>\n",
       "      <th>Low</th>\n",
       "      <th>Open</th>\n",
       "      <th>Close</th>\n",
       "      <th>Volume</th>\n",
       "      <th>Adj Close</th>\n",
       "    </tr>\n",
       "    <tr>\n",
       "      <th>Date</th>\n",
       "      <th></th>\n",
       "      <th></th>\n",
       "      <th></th>\n",
       "      <th></th>\n",
       "      <th></th>\n",
       "      <th></th>\n",
       "    </tr>\n",
       "  </thead>\n",
       "  <tbody>\n",
       "    <tr>\n",
       "      <th>2017-07-17</th>\n",
       "      <td>65.419998</td>\n",
       "      <td>62.689999</td>\n",
       "      <td>65.108002</td>\n",
       "      <td>63.914001</td>\n",
       "      <td>49384500.0</td>\n",
       "      <td>63.914001</td>\n",
       "    </tr>\n",
       "    <tr>\n",
       "      <th>2017-07-18</th>\n",
       "      <td>65.825996</td>\n",
       "      <td>63.132000</td>\n",
       "      <td>63.500000</td>\n",
       "      <td>65.648003</td>\n",
       "      <td>31868500.0</td>\n",
       "      <td>65.648003</td>\n",
       "    </tr>\n",
       "    <tr>\n",
       "      <th>2017-07-19</th>\n",
       "      <td>66.330002</td>\n",
       "      <td>64.643997</td>\n",
       "      <td>65.646004</td>\n",
       "      <td>65.052002</td>\n",
       "      <td>31785000.0</td>\n",
       "      <td>65.052002</td>\n",
       "    </tr>\n",
       "    <tr>\n",
       "      <th>2017-07-20</th>\n",
       "      <td>66.043999</td>\n",
       "      <td>64.839996</td>\n",
       "      <td>65.379997</td>\n",
       "      <td>65.984001</td>\n",
       "      <td>25831000.0</td>\n",
       "      <td>65.984001</td>\n",
       "    </tr>\n",
       "    <tr>\n",
       "      <th>2017-07-21</th>\n",
       "      <td>66.251999</td>\n",
       "      <td>65.160004</td>\n",
       "      <td>65.891998</td>\n",
       "      <td>65.680000</td>\n",
       "      <td>24508000.0</td>\n",
       "      <td>65.680000</td>\n",
       "    </tr>\n",
       "  </tbody>\n",
       "</table>\n",
       "</div>"
      ],
      "text/plain": [
       "                 High        Low       Open      Close      Volume  Adj Close\n",
       "Date                                                                         \n",
       "2017-07-17  65.419998  62.689999  65.108002  63.914001  49384500.0  63.914001\n",
       "2017-07-18  65.825996  63.132000  63.500000  65.648003  31868500.0  65.648003\n",
       "2017-07-19  66.330002  64.643997  65.646004  65.052002  31785000.0  65.052002\n",
       "2017-07-20  66.043999  64.839996  65.379997  65.984001  25831000.0  65.984001\n",
       "2017-07-21  66.251999  65.160004  65.891998  65.680000  24508000.0  65.680000"
      ]
     },
     "execution_count": 32,
     "metadata": {},
     "output_type": "execute_result"
    }
   ],
   "source": [
    "df_tesla.head()"
   ]
  },
  {
   "cell_type": "code",
   "execution_count": 33,
   "id": "09ed58f4",
   "metadata": {},
   "outputs": [
    {
     "data": {
      "text/html": [
       "<div>\n",
       "<style scoped>\n",
       "    .dataframe tbody tr th:only-of-type {\n",
       "        vertical-align: middle;\n",
       "    }\n",
       "\n",
       "    .dataframe tbody tr th {\n",
       "        vertical-align: top;\n",
       "    }\n",
       "\n",
       "    .dataframe thead th {\n",
       "        text-align: right;\n",
       "    }\n",
       "</style>\n",
       "<table border=\"1\" class=\"dataframe\">\n",
       "  <thead>\n",
       "    <tr style=\"text-align: right;\">\n",
       "      <th></th>\n",
       "      <th>High</th>\n",
       "      <th>Low</th>\n",
       "      <th>Open</th>\n",
       "      <th>Close</th>\n",
       "      <th>Volume</th>\n",
       "      <th>Adj Close</th>\n",
       "    </tr>\n",
       "    <tr>\n",
       "      <th>Date</th>\n",
       "      <th></th>\n",
       "      <th></th>\n",
       "      <th></th>\n",
       "      <th></th>\n",
       "      <th></th>\n",
       "      <th></th>\n",
       "    </tr>\n",
       "  </thead>\n",
       "  <tbody>\n",
       "    <tr>\n",
       "      <th>2017-12-31</th>\n",
       "      <td>60.891998</td>\n",
       "      <td>58.526001</td>\n",
       "      <td>59.900002</td>\n",
       "      <td>59.852001</td>\n",
       "      <td>15247500.0</td>\n",
       "      <td>59.852001</td>\n",
       "    </tr>\n",
       "    <tr>\n",
       "      <th>2018-12-31</th>\n",
       "      <td>52.066002</td>\n",
       "      <td>48.917999</td>\n",
       "      <td>50.556000</td>\n",
       "      <td>50.112000</td>\n",
       "      <td>15403500.0</td>\n",
       "      <td>50.112000</td>\n",
       "    </tr>\n",
       "    <tr>\n",
       "      <th>2019-12-31</th>\n",
       "      <td>37.335999</td>\n",
       "      <td>35.397999</td>\n",
       "      <td>36.220001</td>\n",
       "      <td>35.793999</td>\n",
       "      <td>12328000.0</td>\n",
       "      <td>35.793999</td>\n",
       "    </tr>\n",
       "    <tr>\n",
       "      <th>2020-12-31</th>\n",
       "      <td>80.972000</td>\n",
       "      <td>70.101997</td>\n",
       "      <td>74.940002</td>\n",
       "      <td>72.244003</td>\n",
       "      <td>17357700.0</td>\n",
       "      <td>72.244003</td>\n",
       "    </tr>\n",
       "    <tr>\n",
       "      <th>2021-12-31</th>\n",
       "      <td>566.210022</td>\n",
       "      <td>539.489990</td>\n",
       "      <td>552.549988</td>\n",
       "      <td>563.000000</td>\n",
       "      <td>9800600.0</td>\n",
       "      <td>563.000000</td>\n",
       "    </tr>\n",
       "    <tr>\n",
       "      <th>2022-12-31</th>\n",
       "      <td>653.919983</td>\n",
       "      <td>620.570007</td>\n",
       "      <td>623.849976</td>\n",
       "      <td>628.159973</td>\n",
       "      <td>16330900.0</td>\n",
       "      <td>628.159973</td>\n",
       "    </tr>\n",
       "  </tbody>\n",
       "</table>\n",
       "</div>"
      ],
      "text/plain": [
       "                  High         Low        Open       Close      Volume  \\\n",
       "Date                                                                     \n",
       "2017-12-31   60.891998   58.526001   59.900002   59.852001  15247500.0   \n",
       "2018-12-31   52.066002   48.917999   50.556000   50.112000  15403500.0   \n",
       "2019-12-31   37.335999   35.397999   36.220001   35.793999  12328000.0   \n",
       "2020-12-31   80.972000   70.101997   74.940002   72.244003  17357700.0   \n",
       "2021-12-31  566.210022  539.489990  552.549988  563.000000   9800600.0   \n",
       "2022-12-31  653.919983  620.570007  623.849976  628.159973  16330900.0   \n",
       "\n",
       "             Adj Close  \n",
       "Date                    \n",
       "2017-12-31   59.852001  \n",
       "2018-12-31   50.112000  \n",
       "2019-12-31   35.793999  \n",
       "2020-12-31   72.244003  \n",
       "2021-12-31  563.000000  \n",
       "2022-12-31  628.159973  "
      ]
     },
     "execution_count": 33,
     "metadata": {},
     "output_type": "execute_result"
    }
   ],
   "source": [
    "df_tesla.resample(rule='A').min()\n"
   ]
  },
  {
   "cell_type": "code",
   "execution_count": 34,
   "id": "96dd8a1a",
   "metadata": {},
   "outputs": [],
   "source": [
    "#min is an aggregate function"
   ]
  },
  {
   "cell_type": "code",
   "execution_count": 35,
   "id": "4b4c558b",
   "metadata": {},
   "outputs": [
    {
     "data": {
      "text/html": [
       "<div>\n",
       "<style scoped>\n",
       "    .dataframe tbody tr th:only-of-type {\n",
       "        vertical-align: middle;\n",
       "    }\n",
       "\n",
       "    .dataframe tbody tr th {\n",
       "        vertical-align: top;\n",
       "    }\n",
       "\n",
       "    .dataframe thead th {\n",
       "        text-align: right;\n",
       "    }\n",
       "</style>\n",
       "<table border=\"1\" class=\"dataframe\">\n",
       "  <thead>\n",
       "    <tr style=\"text-align: right;\">\n",
       "      <th></th>\n",
       "      <th>High</th>\n",
       "      <th>Low</th>\n",
       "      <th>Open</th>\n",
       "      <th>Close</th>\n",
       "      <th>Volume</th>\n",
       "      <th>Adj Close</th>\n",
       "    </tr>\n",
       "    <tr>\n",
       "      <th>Date</th>\n",
       "      <th></th>\n",
       "      <th></th>\n",
       "      <th></th>\n",
       "      <th></th>\n",
       "      <th></th>\n",
       "      <th></th>\n",
       "    </tr>\n",
       "  </thead>\n",
       "  <tbody>\n",
       "    <tr>\n",
       "      <th>2017-12-31</th>\n",
       "      <td>77.921997</td>\n",
       "      <td>75.536003</td>\n",
       "      <td>76.050003</td>\n",
       "      <td>77.000000</td>\n",
       "      <td>98957000.0</td>\n",
       "      <td>77.000000</td>\n",
       "    </tr>\n",
       "    <tr>\n",
       "      <th>2018-12-31</th>\n",
       "      <td>77.491997</td>\n",
       "      <td>73.424004</td>\n",
       "      <td>75.000000</td>\n",
       "      <td>75.914001</td>\n",
       "      <td>168248500.0</td>\n",
       "      <td>75.914001</td>\n",
       "    </tr>\n",
       "    <tr>\n",
       "      <th>2019-12-31</th>\n",
       "      <td>87.061996</td>\n",
       "      <td>85.269997</td>\n",
       "      <td>87.000000</td>\n",
       "      <td>86.188004</td>\n",
       "      <td>150030500.0</td>\n",
       "      <td>86.188004</td>\n",
       "    </tr>\n",
       "    <tr>\n",
       "      <th>2020-12-31</th>\n",
       "      <td>718.719971</td>\n",
       "      <td>691.119995</td>\n",
       "      <td>699.989990</td>\n",
       "      <td>705.669983</td>\n",
       "      <td>304694000.0</td>\n",
       "      <td>705.669983</td>\n",
       "    </tr>\n",
       "    <tr>\n",
       "      <th>2021-12-31</th>\n",
       "      <td>1243.489990</td>\n",
       "      <td>1217.000000</td>\n",
       "      <td>1234.410034</td>\n",
       "      <td>1229.910034</td>\n",
       "      <td>89396500.0</td>\n",
       "      <td>1229.910034</td>\n",
       "    </tr>\n",
       "    <tr>\n",
       "      <th>2022-12-31</th>\n",
       "      <td>1208.000000</td>\n",
       "      <td>1136.040039</td>\n",
       "      <td>1189.550049</td>\n",
       "      <td>1199.780029</td>\n",
       "      <td>50521900.0</td>\n",
       "      <td>1199.780029</td>\n",
       "    </tr>\n",
       "  </tbody>\n",
       "</table>\n",
       "</div>"
      ],
      "text/plain": [
       "                   High          Low         Open        Close       Volume  \\\n",
       "Date                                                                          \n",
       "2017-12-31    77.921997    75.536003    76.050003    77.000000   98957000.0   \n",
       "2018-12-31    77.491997    73.424004    75.000000    75.914001  168248500.0   \n",
       "2019-12-31    87.061996    85.269997    87.000000    86.188004  150030500.0   \n",
       "2020-12-31   718.719971   691.119995   699.989990   705.669983  304694000.0   \n",
       "2021-12-31  1243.489990  1217.000000  1234.410034  1229.910034   89396500.0   \n",
       "2022-12-31  1208.000000  1136.040039  1189.550049  1199.780029   50521900.0   \n",
       "\n",
       "              Adj Close  \n",
       "Date                     \n",
       "2017-12-31    77.000000  \n",
       "2018-12-31    75.914001  \n",
       "2019-12-31    86.188004  \n",
       "2020-12-31   705.669983  \n",
       "2021-12-31  1229.910034  \n",
       "2022-12-31  1199.780029  "
      ]
     },
     "execution_count": 35,
     "metadata": {},
     "output_type": "execute_result"
    }
   ],
   "source": [
    "#now u can see maximum share price in which year\n",
    "\n",
    "df_tesla.resample(rule='A').max()"
   ]
  },
  {
   "cell_type": "code",
   "execution_count": 36,
   "id": "17ee8af7",
   "metadata": {},
   "outputs": [
    {
     "data": {
      "text/plain": [
       "<AxesSubplot:xlabel='Date'>"
      ]
     },
     "execution_count": 36,
     "metadata": {},
     "output_type": "execute_result"
    },
    {
     "data": {
      "image/png": "[encoded data removed]",
      "text/plain": [
       "<Figure size 432x288 with 1 Axes>"
      ]
     },
     "metadata": {
      "needs_background": "light"
     },
     "output_type": "display_data"
    }
   ],
   "source": [
    "df_tesla.resample(rule='A').max()['Open'].plot()"
   ]
  },
  {
   "cell_type": "code",
   "execution_count": 37,
   "id": "2eec3437",
   "metadata": {},
   "outputs": [
    {
     "data": {
      "text/plain": [
       "<AxesSubplot:xlabel='Date'>"
      ]
     },
     "execution_count": 37,
     "metadata": {},
     "output_type": "execute_result"
    },
    {
     "data": {
      "image/png": "[encoded data removed]",
      "text/plain": [
       "<Figure size 432x288 with 1 Axes>"
      ]
     },
     "metadata": {
      "needs_background": "light"
     },
     "output_type": "display_data"
    }
   ],
   "source": [
    "df_tesla.resample(rule='BQS').max()['High'].plot()  #Bussiness quater state , BS"
   ]
  },
  {
   "cell_type": "code",
   "execution_count": 38,
   "id": "67503919",
   "metadata": {},
   "outputs": [
    {
     "data": {
      "text/plain": [
       "<AxesSubplot:xlabel='Date'>"
      ]
     },
     "execution_count": 38,
     "metadata": {},
     "output_type": "execute_result"
    },
    {
     "data": {
      "image/png": "[encoded data removed]",
      "text/plain": [
       "<Figure size 432x288 with 1 Axes>"
      ]
     },
     "metadata": {
      "needs_background": "light"
     },
     "output_type": "display_data"
    }
   ],
   "source": [
    "##Business End Frequency\n",
    "##https://towardsdatascience.com/resample-function-of-pandas-79b17ec82a78\n",
    "df_tesla.resample(rule='BA').max()['High'].plot()"
   ]
  },
  {
   "cell_type": "code",
   "execution_count": 39,
   "id": "d27fccc6",
   "metadata": {},
   "outputs": [
    {
     "data": {
      "text/plain": [
       "<AxesSubplot:xlabel='Date'>"
      ]
     },
     "execution_count": 39,
     "metadata": {},
     "output_type": "execute_result"
    },
    {
     "data": {
      "image/png": "[encoded data removed]",
      "text/plain": [
       "<Figure size 432x288 with 1 Axes>"
      ]
     },
     "metadata": {
      "needs_background": "light"
     },
     "output_type": "display_data"
    }
   ],
   "source": [
    "df_tesla.resample(rule='BQS').max()['High'].plot()"
   ]
  },
  {
   "cell_type": "code",
   "execution_count": 46,
   "id": "d7758280",
   "metadata": {},
   "outputs": [
    {
     "data": {
      "text/plain": [
       "<AxesSubplot:xlabel='Date'>"
      ]
     },
     "execution_count": 46,
     "metadata": {},
     "output_type": "execute_result"
    },
    {
     "data": {
      "image/png": "[encoded data removed]",
      "text/plain": [
       "<Figure size 1584x1296 with 1 Axes>"
      ]
     },
     "metadata": {
      "needs_background": "light"
     },
     "output_type": "display_data"
    }
   ],
   "source": [
    "df_tesla['Open'].resample(rule='M').mean().plot(kind='bar', figsize=(22,18))  #rule=m goes to month "
   ]
  },
  {
   "cell_type": "code",
   "execution_count": 41,
   "id": "d40a21a5",
   "metadata": {},
   "outputs": [
    {
     "data": {
      "text/plain": [
       "Rolling [window=11,center=False,axis=0,method=single]"
      ]
     },
     "execution_count": 41,
     "metadata": {},
     "output_type": "execute_result"
    }
   ],
   "source": [
    "df_tesla['High'].rolling(11) #rollling('we have to give window ')"
   ]
  },
  {
   "cell_type": "code",
   "execution_count": 50,
   "id": "02a44e9c",
   "metadata": {},
   "outputs": [
    {
     "data": {
      "text/plain": [
       "Date\n",
       "2022-06-16    724.274547\n",
       "2022-06-17    712.481817\n",
       "2022-06-21    711.330905\n",
       "2022-06-22    711.867271\n",
       "2022-06-23    711.681818\n",
       "2022-06-24    710.619091\n",
       "2022-06-27    709.670910\n",
       "2022-06-28    712.526362\n",
       "2022-06-29    713.764543\n",
       "2022-06-30    714.617271\n",
       "2022-07-01    713.135454\n",
       "2022-07-05    715.311818\n",
       "2022-07-06    719.019093\n",
       "2022-07-07    719.506370\n",
       "2022-07-08    721.728188\n",
       "2022-07-11    725.477278\n",
       "2022-07-12    723.760914\n",
       "2022-07-13    721.030912\n",
       "2022-07-14    717.944552\n",
       "2022-07-15    721.340005\n",
       "Name: High, dtype: float64"
      ]
     },
     "execution_count": 50,
     "metadata": {},
     "output_type": "execute_result"
    }
   ],
   "source": [
    "df_tesla['High'].rolling(11).mean().tail(20)"
   ]
  },
  {
   "cell_type": "code",
   "execution_count": 43,
   "id": "99c115cf",
   "metadata": {},
   "outputs": [],
   "source": [
    "df_tesla['Open : 30 days rolling']=df_tesla['Open'].rolling(30).mean()"
   ]
  },
  {
   "cell_type": "code",
   "execution_count": 44,
   "id": "b0c483d4",
   "metadata": {},
   "outputs": [
    {
     "data": {
      "text/html": [
       "<div>\n",
       "<style scoped>\n",
       "    .dataframe tbody tr th:only-of-type {\n",
       "        vertical-align: middle;\n",
       "    }\n",
       "\n",
       "    .dataframe tbody tr th {\n",
       "        vertical-align: top;\n",
       "    }\n",
       "\n",
       "    .dataframe thead th {\n",
       "        text-align: right;\n",
       "    }\n",
       "</style>\n",
       "<table border=\"1\" class=\"dataframe\">\n",
       "  <thead>\n",
       "    <tr style=\"text-align: right;\">\n",
       "      <th></th>\n",
       "      <th>High</th>\n",
       "      <th>Low</th>\n",
       "      <th>Open</th>\n",
       "      <th>Close</th>\n",
       "      <th>Volume</th>\n",
       "      <th>Adj Close</th>\n",
       "      <th>Open : 30 days rolling</th>\n",
       "    </tr>\n",
       "    <tr>\n",
       "      <th>Date</th>\n",
       "      <th></th>\n",
       "      <th></th>\n",
       "      <th></th>\n",
       "      <th></th>\n",
       "      <th></th>\n",
       "      <th></th>\n",
       "      <th></th>\n",
       "    </tr>\n",
       "  </thead>\n",
       "  <tbody>\n",
       "    <tr>\n",
       "      <th>2017-07-17</th>\n",
       "      <td>65.419998</td>\n",
       "      <td>62.689999</td>\n",
       "      <td>65.108002</td>\n",
       "      <td>63.914001</td>\n",
       "      <td>49384500.0</td>\n",
       "      <td>63.914001</td>\n",
       "      <td>NaN</td>\n",
       "    </tr>\n",
       "    <tr>\n",
       "      <th>2017-07-18</th>\n",
       "      <td>65.825996</td>\n",
       "      <td>63.132000</td>\n",
       "      <td>63.500000</td>\n",
       "      <td>65.648003</td>\n",
       "      <td>31868500.0</td>\n",
       "      <td>65.648003</td>\n",
       "      <td>NaN</td>\n",
       "    </tr>\n",
       "    <tr>\n",
       "      <th>2017-07-19</th>\n",
       "      <td>66.330002</td>\n",
       "      <td>64.643997</td>\n",
       "      <td>65.646004</td>\n",
       "      <td>65.052002</td>\n",
       "      <td>31785000.0</td>\n",
       "      <td>65.052002</td>\n",
       "      <td>NaN</td>\n",
       "    </tr>\n",
       "    <tr>\n",
       "      <th>2017-07-20</th>\n",
       "      <td>66.043999</td>\n",
       "      <td>64.839996</td>\n",
       "      <td>65.379997</td>\n",
       "      <td>65.984001</td>\n",
       "      <td>25831000.0</td>\n",
       "      <td>65.984001</td>\n",
       "      <td>NaN</td>\n",
       "    </tr>\n",
       "    <tr>\n",
       "      <th>2017-07-21</th>\n",
       "      <td>66.251999</td>\n",
       "      <td>65.160004</td>\n",
       "      <td>65.891998</td>\n",
       "      <td>65.680000</td>\n",
       "      <td>24508000.0</td>\n",
       "      <td>65.680000</td>\n",
       "      <td>NaN</td>\n",
       "    </tr>\n",
       "    <tr>\n",
       "      <th>2017-07-24</th>\n",
       "      <td>68.680000</td>\n",
       "      <td>66.001999</td>\n",
       "      <td>66.047997</td>\n",
       "      <td>68.503998</td>\n",
       "      <td>43185500.0</td>\n",
       "      <td>68.503998</td>\n",
       "      <td>NaN</td>\n",
       "    </tr>\n",
       "    <tr>\n",
       "      <th>2017-07-25</th>\n",
       "      <td>69.120003</td>\n",
       "      <td>66.830002</td>\n",
       "      <td>69.000000</td>\n",
       "      <td>67.919998</td>\n",
       "      <td>34946000.0</td>\n",
       "      <td>67.919998</td>\n",
       "      <td>NaN</td>\n",
       "    </tr>\n",
       "    <tr>\n",
       "      <th>2017-07-26</th>\n",
       "      <td>69.099998</td>\n",
       "      <td>67.624001</td>\n",
       "      <td>68.071999</td>\n",
       "      <td>68.769997</td>\n",
       "      <td>24104000.0</td>\n",
       "      <td>68.769997</td>\n",
       "      <td>NaN</td>\n",
       "    </tr>\n",
       "    <tr>\n",
       "      <th>2017-07-27</th>\n",
       "      <td>69.500000</td>\n",
       "      <td>65.258003</td>\n",
       "      <td>69.199997</td>\n",
       "      <td>66.891998</td>\n",
       "      <td>41512000.0</td>\n",
       "      <td>66.891998</td>\n",
       "      <td>NaN</td>\n",
       "    </tr>\n",
       "    <tr>\n",
       "      <th>2017-07-28</th>\n",
       "      <td>67.919998</td>\n",
       "      <td>66.501999</td>\n",
       "      <td>67.377998</td>\n",
       "      <td>67.014000</td>\n",
       "      <td>24402000.0</td>\n",
       "      <td>67.014000</td>\n",
       "      <td>NaN</td>\n",
       "    </tr>\n",
       "    <tr>\n",
       "      <th>2017-07-31</th>\n",
       "      <td>68.297997</td>\n",
       "      <td>64.208000</td>\n",
       "      <td>67.099998</td>\n",
       "      <td>64.694000</td>\n",
       "      <td>42675500.0</td>\n",
       "      <td>64.694000</td>\n",
       "      <td>NaN</td>\n",
       "    </tr>\n",
       "    <tr>\n",
       "      <th>2017-08-01</th>\n",
       "      <td>64.889999</td>\n",
       "      <td>63.226002</td>\n",
       "      <td>64.599998</td>\n",
       "      <td>63.914001</td>\n",
       "      <td>41515500.0</td>\n",
       "      <td>63.914001</td>\n",
       "      <td>NaN</td>\n",
       "    </tr>\n",
       "    <tr>\n",
       "      <th>2017-08-02</th>\n",
       "      <td>65.424004</td>\n",
       "      <td>62.243999</td>\n",
       "      <td>63.787998</td>\n",
       "      <td>65.178001</td>\n",
       "      <td>65457500.0</td>\n",
       "      <td>65.178001</td>\n",
       "      <td>NaN</td>\n",
       "    </tr>\n",
       "    <tr>\n",
       "      <th>2017-08-03</th>\n",
       "      <td>70.000000</td>\n",
       "      <td>68.629997</td>\n",
       "      <td>69.066002</td>\n",
       "      <td>69.417999</td>\n",
       "      <td>67675000.0</td>\n",
       "      <td>69.417999</td>\n",
       "      <td>NaN</td>\n",
       "    </tr>\n",
       "    <tr>\n",
       "      <th>2017-08-04</th>\n",
       "      <td>71.454002</td>\n",
       "      <td>68.660004</td>\n",
       "      <td>69.400002</td>\n",
       "      <td>71.382004</td>\n",
       "      <td>46344500.0</td>\n",
       "      <td>71.382004</td>\n",
       "      <td>NaN</td>\n",
       "    </tr>\n",
       "    <tr>\n",
       "      <th>2017-08-07</th>\n",
       "      <td>71.896004</td>\n",
       "      <td>70.550003</td>\n",
       "      <td>71.470001</td>\n",
       "      <td>71.033997</td>\n",
       "      <td>31622500.0</td>\n",
       "      <td>71.033997</td>\n",
       "      <td>NaN</td>\n",
       "    </tr>\n",
       "    <tr>\n",
       "      <th>2017-08-08</th>\n",
       "      <td>73.716003</td>\n",
       "      <td>71.480003</td>\n",
       "      <td>71.505997</td>\n",
       "      <td>73.043999</td>\n",
       "      <td>37249000.0</td>\n",
       "      <td>73.043999</td>\n",
       "      <td>NaN</td>\n",
       "    </tr>\n",
       "    <tr>\n",
       "      <th>2017-08-09</th>\n",
       "      <td>74.000000</td>\n",
       "      <td>71.790001</td>\n",
       "      <td>72.199997</td>\n",
       "      <td>72.706001</td>\n",
       "      <td>34460500.0</td>\n",
       "      <td>72.706001</td>\n",
       "      <td>NaN</td>\n",
       "    </tr>\n",
       "    <tr>\n",
       "      <th>2017-08-10</th>\n",
       "      <td>73.330002</td>\n",
       "      <td>70.931999</td>\n",
       "      <td>72.320000</td>\n",
       "      <td>71.080002</td>\n",
       "      <td>35464500.0</td>\n",
       "      <td>71.080002</td>\n",
       "      <td>NaN</td>\n",
       "    </tr>\n",
       "    <tr>\n",
       "      <th>2017-08-11</th>\n",
       "      <td>72.251999</td>\n",
       "      <td>70.723999</td>\n",
       "      <td>71.393997</td>\n",
       "      <td>71.573997</td>\n",
       "      <td>21829000.0</td>\n",
       "      <td>71.573997</td>\n",
       "      <td>NaN</td>\n",
       "    </tr>\n",
       "    <tr>\n",
       "      <th>2017-08-14</th>\n",
       "      <td>73.531998</td>\n",
       "      <td>72.519997</td>\n",
       "      <td>72.926003</td>\n",
       "      <td>72.760002</td>\n",
       "      <td>22596000.0</td>\n",
       "      <td>72.760002</td>\n",
       "      <td>NaN</td>\n",
       "    </tr>\n",
       "    <tr>\n",
       "      <th>2017-08-15</th>\n",
       "      <td>73.098000</td>\n",
       "      <td>71.874001</td>\n",
       "      <td>73.040001</td>\n",
       "      <td>72.466003</td>\n",
       "      <td>15425500.0</td>\n",
       "      <td>72.466003</td>\n",
       "      <td>NaN</td>\n",
       "    </tr>\n",
       "    <tr>\n",
       "      <th>2017-08-16</th>\n",
       "      <td>73.300003</td>\n",
       "      <td>72.503998</td>\n",
       "      <td>72.599998</td>\n",
       "      <td>72.582001</td>\n",
       "      <td>17069000.0</td>\n",
       "      <td>72.582001</td>\n",
       "      <td>NaN</td>\n",
       "    </tr>\n",
       "    <tr>\n",
       "      <th>2017-08-17</th>\n",
       "      <td>72.660004</td>\n",
       "      <td>70.318001</td>\n",
       "      <td>72.241997</td>\n",
       "      <td>70.384003</td>\n",
       "      <td>25138500.0</td>\n",
       "      <td>70.384003</td>\n",
       "      <td>NaN</td>\n",
       "    </tr>\n",
       "    <tr>\n",
       "      <th>2017-08-18</th>\n",
       "      <td>70.800003</td>\n",
       "      <td>69.160004</td>\n",
       "      <td>70.582001</td>\n",
       "      <td>69.491997</td>\n",
       "      <td>27041000.0</td>\n",
       "      <td>69.491997</td>\n",
       "      <td>NaN</td>\n",
       "    </tr>\n",
       "    <tr>\n",
       "      <th>2017-08-21</th>\n",
       "      <td>69.164001</td>\n",
       "      <td>66.370003</td>\n",
       "      <td>69.164001</td>\n",
       "      <td>67.571999</td>\n",
       "      <td>32477000.0</td>\n",
       "      <td>67.571999</td>\n",
       "      <td>NaN</td>\n",
       "    </tr>\n",
       "    <tr>\n",
       "      <th>2017-08-22</th>\n",
       "      <td>68.447998</td>\n",
       "      <td>67.473999</td>\n",
       "      <td>68.225998</td>\n",
       "      <td>68.269997</td>\n",
       "      <td>21610000.0</td>\n",
       "      <td>68.269997</td>\n",
       "      <td>NaN</td>\n",
       "    </tr>\n",
       "    <tr>\n",
       "      <th>2017-08-23</th>\n",
       "      <td>70.697998</td>\n",
       "      <td>67.660004</td>\n",
       "      <td>67.797997</td>\n",
       "      <td>70.554001</td>\n",
       "      <td>24772500.0</td>\n",
       "      <td>70.554001</td>\n",
       "      <td>NaN</td>\n",
       "    </tr>\n",
       "    <tr>\n",
       "      <th>2017-08-24</th>\n",
       "      <td>71.332001</td>\n",
       "      <td>69.947998</td>\n",
       "      <td>70.503998</td>\n",
       "      <td>70.585999</td>\n",
       "      <td>22923500.0</td>\n",
       "      <td>70.585999</td>\n",
       "      <td>NaN</td>\n",
       "    </tr>\n",
       "    <tr>\n",
       "      <th>2017-08-25</th>\n",
       "      <td>71.138000</td>\n",
       "      <td>69.459999</td>\n",
       "      <td>70.848000</td>\n",
       "      <td>69.610001</td>\n",
       "      <td>17420000.0</td>\n",
       "      <td>69.610001</td>\n",
       "      <td>68.866599</td>\n",
       "    </tr>\n",
       "    <tr>\n",
       "      <th>2017-08-28</th>\n",
       "      <td>69.470001</td>\n",
       "      <td>67.944000</td>\n",
       "      <td>69.456001</td>\n",
       "      <td>69.132004</td>\n",
       "      <td>18820000.0</td>\n",
       "      <td>69.132004</td>\n",
       "      <td>69.011532</td>\n",
       "    </tr>\n",
       "  </tbody>\n",
       "</table>\n",
       "</div>"
      ],
      "text/plain": [
       "                 High        Low       Open      Close      Volume  Adj Close  \\\n",
       "Date                                                                            \n",
       "2017-07-17  65.419998  62.689999  65.108002  63.914001  49384500.0  63.914001   \n",
       "2017-07-18  65.825996  63.132000  63.500000  65.648003  31868500.0  65.648003   \n",
       "2017-07-19  66.330002  64.643997  65.646004  65.052002  31785000.0  65.052002   \n",
       "2017-07-20  66.043999  64.839996  65.379997  65.984001  25831000.0  65.984001   \n",
       "2017-07-21  66.251999  65.160004  65.891998  65.680000  24508000.0  65.680000   \n",
       "2017-07-24  68.680000  66.001999  66.047997  68.503998  43185500.0  68.503998   \n",
       "2017-07-25  69.120003  66.830002  69.000000  67.919998  34946000.0  67.919998   \n",
       "2017-07-26  69.099998  67.624001  68.071999  68.769997  24104000.0  68.769997   \n",
       "2017-07-27  69.500000  65.258003  69.199997  66.891998  41512000.0  66.891998   \n",
       "2017-07-28  67.919998  66.501999  67.377998  67.014000  24402000.0  67.014000   \n",
       "2017-07-31  68.297997  64.208000  67.099998  64.694000  42675500.0  64.694000   \n",
       "2017-08-01  64.889999  63.226002  64.599998  63.914001  41515500.0  63.914001   \n",
       "2017-08-02  65.424004  62.243999  63.787998  65.178001  65457500.0  65.178001   \n",
       "2017-08-03  70.000000  68.629997  69.066002  69.417999  67675000.0  69.417999   \n",
       "2017-08-04  71.454002  68.660004  69.400002  71.382004  46344500.0  71.382004   \n",
       "2017-08-07  71.896004  70.550003  71.470001  71.033997  31622500.0  71.033997   \n",
       "2017-08-08  73.716003  71.480003  71.505997  73.043999  37249000.0  73.043999   \n",
       "2017-08-09  74.000000  71.790001  72.199997  72.706001  34460500.0  72.706001   \n",
       "2017-08-10  73.330002  70.931999  72.320000  71.080002  35464500.0  71.080002   \n",
       "2017-08-11  72.251999  70.723999  71.393997  71.573997  21829000.0  71.573997   \n",
       "2017-08-14  73.531998  72.519997  72.926003  72.760002  22596000.0  72.760002   \n",
       "2017-08-15  73.098000  71.874001  73.040001  72.466003  15425500.0  72.466003   \n",
       "2017-08-16  73.300003  72.503998  72.599998  72.582001  17069000.0  72.582001   \n",
       "2017-08-17  72.660004  70.318001  72.241997  70.384003  25138500.0  70.384003   \n",
       "2017-08-18  70.800003  69.160004  70.582001  69.491997  27041000.0  69.491997   \n",
       "2017-08-21  69.164001  66.370003  69.164001  67.571999  32477000.0  67.571999   \n",
       "2017-08-22  68.447998  67.473999  68.225998  68.269997  21610000.0  68.269997   \n",
       "2017-08-23  70.697998  67.660004  67.797997  70.554001  24772500.0  70.554001   \n",
       "2017-08-24  71.332001  69.947998  70.503998  70.585999  22923500.0  70.585999   \n",
       "2017-08-25  71.138000  69.459999  70.848000  69.610001  17420000.0  69.610001   \n",
       "2017-08-28  69.470001  67.944000  69.456001  69.132004  18820000.0  69.132004   \n",
       "\n",
       "            Open : 30 days rolling  \n",
       "Date                                \n",
       "2017-07-17                     NaN  \n",
       "2017-07-18                     NaN  \n",
       "2017-07-19                     NaN  \n",
       "2017-07-20                     NaN  \n",
       "2017-07-21                     NaN  \n",
       "2017-07-24                     NaN  \n",
       "2017-07-25                     NaN  \n",
       "2017-07-26                     NaN  \n",
       "2017-07-27                     NaN  \n",
       "2017-07-28                     NaN  \n",
       "2017-07-31                     NaN  \n",
       "2017-08-01                     NaN  \n",
       "2017-08-02                     NaN  \n",
       "2017-08-03                     NaN  \n",
       "2017-08-04                     NaN  \n",
       "2017-08-07                     NaN  \n",
       "2017-08-08                     NaN  \n",
       "2017-08-09                     NaN  \n",
       "2017-08-10                     NaN  \n",
       "2017-08-11                     NaN  \n",
       "2017-08-14                     NaN  \n",
       "2017-08-15                     NaN  \n",
       "2017-08-16                     NaN  \n",
       "2017-08-17                     NaN  \n",
       "2017-08-18                     NaN  \n",
       "2017-08-21                     NaN  \n",
       "2017-08-22                     NaN  \n",
       "2017-08-23                     NaN  \n",
       "2017-08-24                     NaN  \n",
       "2017-08-25               68.866599  \n",
       "2017-08-28               69.011532  "
      ]
     },
     "execution_count": 44,
     "metadata": {},
     "output_type": "execute_result"
    }
   ],
   "source": [
    "df_tesla.head(31)"
   ]
  },
  {
   "cell_type": "code",
   "execution_count": 45,
   "id": "a9af5d92",
   "metadata": {},
   "outputs": [
    {
     "data": {
      "text/plain": [
       "<AxesSubplot:xlabel='Date'>"
      ]
     },
     "execution_count": 45,
     "metadata": {},
     "output_type": "execute_result"
    },
    {
     "data": {
      "image/png": "[encoded data removed]",
      "text/plain": [
       "<Figure size 864x360 with 1 Axes>"
      ]
     },
     "metadata": {
      "needs_background": "light"
     },
     "output_type": "display_data"
    }
   ],
   "source": [
    "df_tesla[['Open', 'Open : 30 days rolling']].plot(figsize=(12,5))"
   ]
  },
  {
   "cell_type": "markdown",
   "id": "1df59d2f",
   "metadata": {},
   "source": [
    "##Assignment\n",
    "df_tesla = pdr.get_data_yahoo('MSFT')\n",
    "df_tesla"
   ]
  },
  {
   "cell_type": "code",
   "execution_count": null,
   "id": "3331efc9",
   "metadata": {},
   "outputs": [],
   "source": []
  }
 ],
 "metadata": {
  "kernelspec": {
   "display_name": "Python 3 (ipykernel)",
   "language": "python",
   "name": "python3"
  },
  "language_info": {
   "codemirror_mode": {
    "name": "ipython",
    "version": 3
   },
   "file_extension": ".py",
   "mimetype": "text/x-python",
   "name": "python",
   "nbconvert_exporter": "python",
   "pygments_lexer": "ipython3",
   "version": "3.10.5"
  }
 },
 "nbformat": 4,
 "nbformat_minor": 5
}
